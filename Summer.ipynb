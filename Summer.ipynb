{
 "cells": [
  {
   "cell_type": "markdown",
   "id": "f0c3ee66-e2b4-4b5b-9078-f15bc958b102",
   "metadata": {},
   "source": [
    "# ♦ ELITE TECHNO GROUPS TASK 2 ♦"
   ]
  },
  {
   "cell_type": "markdown",
   "id": "d3bbc4bd-f933-42ad-b3aa-4a80248903bf",
   "metadata": {},
   "source": [
    "# 💠 EDA on Summer Olympics Dataset 💠"
   ]
  },
  {
   "cell_type": "code",
   "execution_count": 1,
   "id": "6334de90-a843-48cf-9272-8f45ae13f306",
   "metadata": {},
   "outputs": [],
   "source": [
    "# importing the libraries\n",
    "import numpy as np\n",
    "import pandas as pd\n",
    "import matplotlib.pyplot as plt\n",
    "import seaborn as sns"
   ]
  },
  {
   "cell_type": "markdown",
   "id": "ecb8c40d-326f-43a9-800f-29709b269cc6",
   "metadata": {},
   "source": [
    "# 👁️‍🗨️ Reading the CSV file"
   ]
  },
  {
   "cell_type": "code",
   "execution_count": 2,
   "id": "93d84b63-b42f-4b99-934d-bc33b6ed69aa",
   "metadata": {},
   "outputs": [],
   "source": [
    "df = pd.read_csv(\"Summer.csv\")"
   ]
  },
  {
   "cell_type": "markdown",
   "id": "da60e930-23b5-43d8-8017-99fd1eb9a646",
   "metadata": {},
   "source": [
    "# 🔍 First 5 rows in the dataset"
   ]
  },
  {
   "cell_type": "code",
   "execution_count": 3,
   "id": "3ddb3563-ca50-4bdb-ae0f-15214e7a2e35",
   "metadata": {},
   "outputs": [
    {
     "data": {
      "text/html": [
       "<div>\n",
       "<style scoped>\n",
       "    .dataframe tbody tr th:only-of-type {\n",
       "        vertical-align: middle;\n",
       "    }\n",
       "\n",
       "    .dataframe tbody tr th {\n",
       "        vertical-align: top;\n",
       "    }\n",
       "\n",
       "    .dataframe thead th {\n",
       "        text-align: right;\n",
       "    }\n",
       "</style>\n",
       "<table border=\"1\" class=\"dataframe\">\n",
       "  <thead>\n",
       "    <tr style=\"text-align: right;\">\n",
       "      <th></th>\n",
       "      <th>Year</th>\n",
       "      <th>City</th>\n",
       "      <th>Sport</th>\n",
       "      <th>Discipline</th>\n",
       "      <th>Athlete</th>\n",
       "      <th>Country</th>\n",
       "      <th>Gender</th>\n",
       "      <th>Event</th>\n",
       "      <th>Medal</th>\n",
       "    </tr>\n",
       "  </thead>\n",
       "  <tbody>\n",
       "    <tr>\n",
       "      <th>0</th>\n",
       "      <td>1896</td>\n",
       "      <td>Athens</td>\n",
       "      <td>Aquatics</td>\n",
       "      <td>Swimming</td>\n",
       "      <td>HAJOS, Alfred</td>\n",
       "      <td>HUN</td>\n",
       "      <td>Men</td>\n",
       "      <td>100M Freestyle</td>\n",
       "      <td>Gold</td>\n",
       "    </tr>\n",
       "    <tr>\n",
       "      <th>1</th>\n",
       "      <td>1896</td>\n",
       "      <td>Athens</td>\n",
       "      <td>Aquatics</td>\n",
       "      <td>Swimming</td>\n",
       "      <td>HERSCHMANN, Otto</td>\n",
       "      <td>AUT</td>\n",
       "      <td>Men</td>\n",
       "      <td>100M Freestyle</td>\n",
       "      <td>Silver</td>\n",
       "    </tr>\n",
       "    <tr>\n",
       "      <th>2</th>\n",
       "      <td>1896</td>\n",
       "      <td>Athens</td>\n",
       "      <td>Aquatics</td>\n",
       "      <td>Swimming</td>\n",
       "      <td>DRIVAS, Dimitrios</td>\n",
       "      <td>GRE</td>\n",
       "      <td>Men</td>\n",
       "      <td>100M Freestyle For Sailors</td>\n",
       "      <td>Bronze</td>\n",
       "    </tr>\n",
       "    <tr>\n",
       "      <th>3</th>\n",
       "      <td>1896</td>\n",
       "      <td>Athens</td>\n",
       "      <td>Aquatics</td>\n",
       "      <td>Swimming</td>\n",
       "      <td>MALOKINIS, Ioannis</td>\n",
       "      <td>GRE</td>\n",
       "      <td>Men</td>\n",
       "      <td>100M Freestyle For Sailors</td>\n",
       "      <td>Gold</td>\n",
       "    </tr>\n",
       "    <tr>\n",
       "      <th>4</th>\n",
       "      <td>1896</td>\n",
       "      <td>Athens</td>\n",
       "      <td>Aquatics</td>\n",
       "      <td>Swimming</td>\n",
       "      <td>CHASAPIS, Spiridon</td>\n",
       "      <td>GRE</td>\n",
       "      <td>Men</td>\n",
       "      <td>100M Freestyle For Sailors</td>\n",
       "      <td>Silver</td>\n",
       "    </tr>\n",
       "  </tbody>\n",
       "</table>\n",
       "</div>"
      ],
      "text/plain": [
       "   Year    City     Sport Discipline             Athlete Country Gender  \\\n",
       "0  1896  Athens  Aquatics   Swimming       HAJOS, Alfred     HUN    Men   \n",
       "1  1896  Athens  Aquatics   Swimming    HERSCHMANN, Otto     AUT    Men   \n",
       "2  1896  Athens  Aquatics   Swimming   DRIVAS, Dimitrios     GRE    Men   \n",
       "3  1896  Athens  Aquatics   Swimming  MALOKINIS, Ioannis     GRE    Men   \n",
       "4  1896  Athens  Aquatics   Swimming  CHASAPIS, Spiridon     GRE    Men   \n",
       "\n",
       "                        Event   Medal  \n",
       "0              100M Freestyle    Gold  \n",
       "1              100M Freestyle  Silver  \n",
       "2  100M Freestyle For Sailors  Bronze  \n",
       "3  100M Freestyle For Sailors    Gold  \n",
       "4  100M Freestyle For Sailors  Silver  "
      ]
     },
     "execution_count": 3,
     "metadata": {},
     "output_type": "execute_result"
    }
   ],
   "source": [
    "df.head()"
   ]
  },
  {
   "cell_type": "markdown",
   "id": "444799f7-872b-470f-a554-f874c70a2a95",
   "metadata": {},
   "source": [
    "# ➡ Shape of the dataset"
   ]
  },
  {
   "cell_type": "code",
   "execution_count": 4,
   "id": "6fbecc70-6dfc-44f1-920e-6cd8ed056e9b",
   "metadata": {},
   "outputs": [
    {
     "data": {
      "text/plain": [
       "(31165, 9)"
      ]
     },
     "execution_count": 4,
     "metadata": {},
     "output_type": "execute_result"
    }
   ],
   "source": [
    "df.shape\n",
    "# 31165 rows and 9 columns"
   ]
  },
  {
   "cell_type": "markdown",
   "id": "4b40674b-54dc-4927-a030-e5d7ba5f3c22",
   "metadata": {},
   "source": [
    "# ❗ Information about dataset"
   ]
  },
  {
   "cell_type": "code",
   "execution_count": 5,
   "id": "7a76665c-17bc-40e7-9df3-982820aaa534",
   "metadata": {},
   "outputs": [
    {
     "name": "stdout",
     "output_type": "stream",
     "text": [
      "<class 'pandas.core.frame.DataFrame'>\n",
      "RangeIndex: 31165 entries, 0 to 31164\n",
      "Data columns (total 9 columns):\n",
      " #   Column      Non-Null Count  Dtype \n",
      "---  ------      --------------  ----- \n",
      " 0   Year        31165 non-null  int64 \n",
      " 1   City        31165 non-null  object\n",
      " 2   Sport       31165 non-null  object\n",
      " 3   Discipline  31165 non-null  object\n",
      " 4   Athlete     31165 non-null  object\n",
      " 5   Country     31161 non-null  object\n",
      " 6   Gender      31165 non-null  object\n",
      " 7   Event       31165 non-null  object\n",
      " 8   Medal       31165 non-null  object\n",
      "dtypes: int64(1), object(8)\n",
      "memory usage: 2.1+ MB\n"
     ]
    }
   ],
   "source": [
    "df.info()"
   ]
  },
  {
   "cell_type": "markdown",
   "id": "64d0edd9-275b-40c0-8835-246fab42f8d4",
   "metadata": {},
   "source": [
    "# ⚫ Checking for null values in dataset"
   ]
  },
  {
   "cell_type": "code",
   "execution_count": 6,
   "id": "a1b52488-5fd6-4ed0-aa83-998f5f468675",
   "metadata": {},
   "outputs": [
    {
     "data": {
      "text/plain": [
       "Year          0\n",
       "City          0\n",
       "Sport         0\n",
       "Discipline    0\n",
       "Athlete       0\n",
       "Country       4\n",
       "Gender        0\n",
       "Event         0\n",
       "Medal         0\n",
       "dtype: int64"
      ]
     },
     "execution_count": 6,
     "metadata": {},
     "output_type": "execute_result"
    }
   ],
   "source": [
    "df.isnull().sum()"
   ]
  },
  {
   "cell_type": "code",
   "execution_count": 7,
   "id": "c8674b36-d09d-47c0-a6fb-4e7da42b7175",
   "metadata": {},
   "outputs": [
    {
     "name": "stdout",
     "output_type": "stream",
     "text": [
      "       Year    City          Sport           Discipline          Athlete  \\\n",
      "29603  2012  London      Athletics            Athletics          Pending   \n",
      "31072  2012  London  Weightlifting        Weightlifting          Pending   \n",
      "31091  2012  London  Weightlifting        Weightlifting          Pending   \n",
      "31110  2012  London      Wrestling  Wrestling Freestyle  KUDUKHOV, Besik   \n",
      "\n",
      "      Country Gender     Event   Medal  \n",
      "29603     NaN  Women     1500M    Gold  \n",
      "31072     NaN  Women      63KG    Gold  \n",
      "31091     NaN    Men      94KG  Silver  \n",
      "31110     NaN    Men  Wf 60 KG  Silver  \n"
     ]
    }
   ],
   "source": [
    "# looking for the rows having NaN values\n",
    "is_NaN = df.isnull()\n",
    "row_has_NaN = is_NaN.any(axis = 1)\n",
    "rows_with_NaN = df[row_has_NaN]\n",
    "\n",
    "print(rows_with_NaN)"
   ]
  },
  {
   "cell_type": "markdown",
   "id": "8b824f31-d5a4-475e-886f-6197a4add20c",
   "metadata": {},
   "source": [
    "## ⚠ Row No. 29603, 31072, 31091 and 31110 are having NaN values in 'Country' column\n",
    "## ➡ Total 4 NaN values"
   ]
  },
  {
   "cell_type": "markdown",
   "id": "f795bcf1-d3ca-4401-849c-80de8960630c",
   "metadata": {
    "tags": []
   },
   "source": [
    "# ➤ Lets fill the null values using bfill() method"
   ]
  },
  {
   "cell_type": "code",
   "execution_count": 8,
   "id": "28376d17-3012-4b97-aab1-9d154d24b727",
   "metadata": {},
   "outputs": [],
   "source": [
    "# # using backfill method to replace the NaN values\n",
    "df['Country'].fillna(method ='bfill', inplace = True)"
   ]
  },
  {
   "cell_type": "markdown",
   "id": "48998f9a-b19b-4c11-9764-58c5936f24ce",
   "metadata": {},
   "source": [
    "## ℹ Now there are No NaN values"
   ]
  },
  {
   "cell_type": "code",
   "execution_count": 9,
   "id": "322f0a01-2016-4fe7-908a-d32dacfb5aeb",
   "metadata": {},
   "outputs": [
    {
     "data": {
      "text/plain": [
       "Year          0\n",
       "City          0\n",
       "Sport         0\n",
       "Discipline    0\n",
       "Athlete       0\n",
       "Country       0\n",
       "Gender        0\n",
       "Event         0\n",
       "Medal         0\n",
       "dtype: int64"
      ]
     },
     "execution_count": 9,
     "metadata": {},
     "output_type": "execute_result"
    }
   ],
   "source": [
    "df.isnull().sum()"
   ]
  },
  {
   "cell_type": "code",
   "execution_count": 10,
   "id": "14c0e17c-f6bd-4958-9785-e630ea5c89ca",
   "metadata": {},
   "outputs": [
    {
     "data": {
      "text/html": [
       "<div>\n",
       "<style scoped>\n",
       "    .dataframe tbody tr th:only-of-type {\n",
       "        vertical-align: middle;\n",
       "    }\n",
       "\n",
       "    .dataframe tbody tr th {\n",
       "        vertical-align: top;\n",
       "    }\n",
       "\n",
       "    .dataframe thead th {\n",
       "        text-align: right;\n",
       "    }\n",
       "</style>\n",
       "<table border=\"1\" class=\"dataframe\">\n",
       "  <thead>\n",
       "    <tr style=\"text-align: right;\">\n",
       "      <th></th>\n",
       "      <th>Year</th>\n",
       "      <th>City</th>\n",
       "      <th>Sport</th>\n",
       "      <th>Discipline</th>\n",
       "      <th>Athlete</th>\n",
       "      <th>Country</th>\n",
       "      <th>Gender</th>\n",
       "      <th>Event</th>\n",
       "      <th>Medal</th>\n",
       "    </tr>\n",
       "  </thead>\n",
       "  <tbody>\n",
       "    <tr>\n",
       "      <th>29603</th>\n",
       "      <td>2012</td>\n",
       "      <td>London</td>\n",
       "      <td>Athletics</td>\n",
       "      <td>Athletics</td>\n",
       "      <td>Pending</td>\n",
       "      <td>TUR</td>\n",
       "      <td>Women</td>\n",
       "      <td>1500M</td>\n",
       "      <td>Gold</td>\n",
       "    </tr>\n",
       "    <tr>\n",
       "      <th>31072</th>\n",
       "      <td>2012</td>\n",
       "      <td>London</td>\n",
       "      <td>Weightlifting</td>\n",
       "      <td>Weightlifting</td>\n",
       "      <td>Pending</td>\n",
       "      <td>RUS</td>\n",
       "      <td>Women</td>\n",
       "      <td>63KG</td>\n",
       "      <td>Gold</td>\n",
       "    </tr>\n",
       "    <tr>\n",
       "      <th>31091</th>\n",
       "      <td>2012</td>\n",
       "      <td>London</td>\n",
       "      <td>Weightlifting</td>\n",
       "      <td>Weightlifting</td>\n",
       "      <td>Pending</td>\n",
       "      <td>KOR</td>\n",
       "      <td>Men</td>\n",
       "      <td>94KG</td>\n",
       "      <td>Silver</td>\n",
       "    </tr>\n",
       "    <tr>\n",
       "      <th>31110</th>\n",
       "      <td>2012</td>\n",
       "      <td>London</td>\n",
       "      <td>Wrestling</td>\n",
       "      <td>Wrestling Freestyle</td>\n",
       "      <td>KUDUKHOV, Besik</td>\n",
       "      <td>IND</td>\n",
       "      <td>Men</td>\n",
       "      <td>Wf 60 KG</td>\n",
       "      <td>Silver</td>\n",
       "    </tr>\n",
       "  </tbody>\n",
       "</table>\n",
       "</div>"
      ],
      "text/plain": [
       "       Year    City          Sport           Discipline          Athlete  \\\n",
       "29603  2012  London      Athletics            Athletics          Pending   \n",
       "31072  2012  London  Weightlifting        Weightlifting          Pending   \n",
       "31091  2012  London  Weightlifting        Weightlifting          Pending   \n",
       "31110  2012  London      Wrestling  Wrestling Freestyle  KUDUKHOV, Besik   \n",
       "\n",
       "      Country Gender     Event   Medal  \n",
       "29603     TUR  Women     1500M    Gold  \n",
       "31072     RUS  Women      63KG    Gold  \n",
       "31091     KOR    Men      94KG  Silver  \n",
       "31110     IND    Men  Wf 60 KG  Silver  "
      ]
     },
     "metadata": {},
     "output_type": "display_data"
    }
   ],
   "source": [
    "# the 4 rows having NaN values\n",
    "rows=[29603,31072,31091,31110]\n",
    "\n",
    "#To display in a DataFrame format\n",
    "display(df.loc[rows])"
   ]
  },
  {
   "cell_type": "markdown",
   "id": "3d7072d6-6ac3-4b72-82bb-979c7a2b6988",
   "metadata": {},
   "source": [
    "## ➤ Here we can see that the NaN values have been removed by filling it successfully!!!"
   ]
  },
  {
   "cell_type": "raw",
   "id": "f403ad6e-3b9f-4292-ad3e-0f23e18c907e",
   "metadata": {},
   "source": []
  },
  {
   "cell_type": "markdown",
   "id": "eea16f97-d2ea-49a1-8307-f6136f208529",
   "metadata": {},
   "source": [
    "# ✔ VISUALIZATION AND ANALYSIS ON THE DATASET"
   ]
  },
  {
   "cell_type": "markdown",
   "id": "7e2549aa-6779-4d9c-be96-e19c8d097e7a",
   "metadata": {},
   "source": [
    "# 📌 1. In how many cities Summer Olympics is held so far?"
   ]
  },
  {
   "cell_type": "code",
   "execution_count": 11,
   "id": "1e3339dc-980c-4dab-9884-2048f956fca4",
   "metadata": {},
   "outputs": [
    {
     "name": "stdout",
     "output_type": "stream",
     "text": [
      "=========================================================\n",
      "Summer Olympics has been held in '22' cities so far.\n",
      "=========================================================\n"
     ]
    }
   ],
   "source": [
    "c = len(df['City'].unique())\n",
    "print(\"=========================================================\")\n",
    "print(f\"Summer Olympics has been held in '{c}' cities so far.\")\n",
    "print(\"=========================================================\")"
   ]
  },
  {
   "cell_type": "code",
   "execution_count": 12,
   "id": "df666fc0-b1cd-4250-ac6a-3c25d380e4f9",
   "metadata": {},
   "outputs": [
    {
     "data": {
      "text/html": [
       "<div>\n",
       "<style scoped>\n",
       "    .dataframe tbody tr th:only-of-type {\n",
       "        vertical-align: middle;\n",
       "    }\n",
       "\n",
       "    .dataframe tbody tr th {\n",
       "        vertical-align: top;\n",
       "    }\n",
       "\n",
       "    .dataframe thead th {\n",
       "        text-align: right;\n",
       "    }\n",
       "</style>\n",
       "<table border=\"1\" class=\"dataframe\">\n",
       "  <thead>\n",
       "    <tr style=\"text-align: right;\">\n",
       "      <th></th>\n",
       "      <th>City</th>\n",
       "      <th>Number of Olympics</th>\n",
       "    </tr>\n",
       "  </thead>\n",
       "  <tbody>\n",
       "    <tr>\n",
       "      <th>8</th>\n",
       "      <td>London</td>\n",
       "      <td>3567</td>\n",
       "    </tr>\n",
       "    <tr>\n",
       "      <th>2</th>\n",
       "      <td>Athens</td>\n",
       "      <td>2149</td>\n",
       "    </tr>\n",
       "    <tr>\n",
       "      <th>9</th>\n",
       "      <td>Los Angeles</td>\n",
       "      <td>2074</td>\n",
       "    </tr>\n",
       "    <tr>\n",
       "      <th>5</th>\n",
       "      <td>Beijing</td>\n",
       "      <td>2042</td>\n",
       "    </tr>\n",
       "    <tr>\n",
       "      <th>20</th>\n",
       "      <td>Sydney</td>\n",
       "      <td>2015</td>\n",
       "    </tr>\n",
       "    <tr>\n",
       "      <th>3</th>\n",
       "      <td>Atlanta</td>\n",
       "      <td>1859</td>\n",
       "    </tr>\n",
       "    <tr>\n",
       "      <th>4</th>\n",
       "      <td>Barcelona</td>\n",
       "      <td>1705</td>\n",
       "    </tr>\n",
       "    <tr>\n",
       "      <th>17</th>\n",
       "      <td>Seoul</td>\n",
       "      <td>1546</td>\n",
       "    </tr>\n",
       "    <tr>\n",
       "      <th>15</th>\n",
       "      <td>Paris</td>\n",
       "      <td>1396</td>\n",
       "    </tr>\n",
       "    <tr>\n",
       "      <th>13</th>\n",
       "      <td>Moscow</td>\n",
       "      <td>1387</td>\n",
       "    </tr>\n",
       "    <tr>\n",
       "      <th>12</th>\n",
       "      <td>Montreal</td>\n",
       "      <td>1305</td>\n",
       "    </tr>\n",
       "    <tr>\n",
       "      <th>1</th>\n",
       "      <td>Antwerp</td>\n",
       "      <td>1298</td>\n",
       "    </tr>\n",
       "    <tr>\n",
       "      <th>14</th>\n",
       "      <td>Munich</td>\n",
       "      <td>1185</td>\n",
       "    </tr>\n",
       "    <tr>\n",
       "      <th>11</th>\n",
       "      <td>Mexico</td>\n",
       "      <td>1031</td>\n",
       "    </tr>\n",
       "    <tr>\n",
       "      <th>21</th>\n",
       "      <td>Tokyo</td>\n",
       "      <td>1010</td>\n",
       "    </tr>\n",
       "    <tr>\n",
       "      <th>7</th>\n",
       "      <td>Helsinki</td>\n",
       "      <td>889</td>\n",
       "    </tr>\n",
       "    <tr>\n",
       "      <th>10</th>\n",
       "      <td>Melbourne / Stockholm</td>\n",
       "      <td>885</td>\n",
       "    </tr>\n",
       "    <tr>\n",
       "      <th>19</th>\n",
       "      <td>Stockholm</td>\n",
       "      <td>885</td>\n",
       "    </tr>\n",
       "    <tr>\n",
       "      <th>16</th>\n",
       "      <td>Rome</td>\n",
       "      <td>882</td>\n",
       "    </tr>\n",
       "    <tr>\n",
       "      <th>6</th>\n",
       "      <td>Berlin</td>\n",
       "      <td>875</td>\n",
       "    </tr>\n",
       "    <tr>\n",
       "      <th>0</th>\n",
       "      <td>Amsterdam</td>\n",
       "      <td>710</td>\n",
       "    </tr>\n",
       "    <tr>\n",
       "      <th>18</th>\n",
       "      <td>St Louis</td>\n",
       "      <td>470</td>\n",
       "    </tr>\n",
       "  </tbody>\n",
       "</table>\n",
       "</div>"
      ],
      "text/plain": [
       "                     City  Number of Olympics\n",
       "8                  London                3567\n",
       "2                  Athens                2149\n",
       "9             Los Angeles                2074\n",
       "5                 Beijing                2042\n",
       "20                 Sydney                2015\n",
       "3                 Atlanta                1859\n",
       "4               Barcelona                1705\n",
       "17                  Seoul                1546\n",
       "15                  Paris                1396\n",
       "13                 Moscow                1387\n",
       "12               Montreal                1305\n",
       "1                 Antwerp                1298\n",
       "14                 Munich                1185\n",
       "11                 Mexico                1031\n",
       "21                  Tokyo                1010\n",
       "7                Helsinki                 889\n",
       "10  Melbourne / Stockholm                 885\n",
       "19              Stockholm                 885\n",
       "16                   Rome                 882\n",
       "6                  Berlin                 875\n",
       "0               Amsterdam                 710\n",
       "18               St Louis                 470"
      ]
     },
     "execution_count": 12,
     "metadata": {},
     "output_type": "execute_result"
    }
   ],
   "source": [
    "c = df.groupby([\"City\"]).size().reset_index(name='Number of Olympics')\n",
    "c = c.sort_values(by=['Number of Olympics'], ascending = False)\n",
    "c"
   ]
  },
  {
   "cell_type": "code",
   "execution_count": 13,
   "id": "a43a9914-25dc-43e0-a9b1-d84db6e3f627",
   "metadata": {},
   "outputs": [
    {
     "name": "stdout",
     "output_type": "stream",
     "text": [
      "<class 'pandas.core.series.Series'>\n",
      "<class 'pandas.core.series.Series'>\n"
     ]
    }
   ],
   "source": [
    "first_column = c.iloc[:, 0]     # City column\n",
    "sec_column = c.iloc[:,1]      # No. of times conducted column\n",
    "print(type(first_column))\n",
    "print(type(sec_column))"
   ]
  },
  {
   "cell_type": "code",
   "execution_count": 14,
   "id": "18966a89-e9e7-4ffb-b7df-ce0b2d8fc34e",
   "metadata": {},
   "outputs": [
    {
     "data": {
      "image/png": "[encoded data removed]",
      "text/plain": [
       "<Figure size 1008x504 with 1 Axes>"
      ]
     },
     "metadata": {
      "needs_background": "light"
     },
     "output_type": "display_data"
    }
   ],
   "source": [
    "plt.figure(figsize = (14, 7))\n",
    " \n",
    "# creating the horizontal bar plot\n",
    "plt.bar(first_column, sec_column, color = 'teal')\n",
    "\n",
    "plt.xticks(fontsize = 15, color = 'maroon', rotation=90)\n",
    "plt.xlabel(\"Cities\",fontsize = 19)\n",
    "\n",
    "plt.yticks(fontsize = 14, color = 'maroon')\n",
    "plt.ylabel(\"No. of times olympics\",fontsize = 19)\n",
    "\n",
    "plt.title(\"Cities vs No. of times Olympics\", fontsize = 21, color = 'red', fontweight='bold')\n",
    "plt.show()"
   ]
  },
  {
   "cell_type": "markdown",
   "id": "e4d8b4be-692f-4dc9-8db9-34a9a0dfbcfd",
   "metadata": {},
   "source": [
    "# 📌 2. Which sport is having most number of Gold Medals so far? (Top 5)"
   ]
  },
  {
   "cell_type": "code",
   "execution_count": 15,
   "id": "c3148568-7804-4aeb-b645-9a7f5dc9de7c",
   "metadata": {},
   "outputs": [
    {
     "name": "stdout",
     "output_type": "stream",
     "text": [
      "=======================================\n",
      "Total no. of unique sports: 43.\n",
      "=======================================\n"
     ]
    }
   ],
   "source": [
    "s = len(df['Sport'].unique())\n",
    "print(\"=======================================\")\n",
    "print(f\"Total no. of unique sports: {s}.\")\n",
    "print(\"=======================================\")"
   ]
  },
  {
   "cell_type": "markdown",
   "id": "5be65c99",
   "metadata": {},
   "source": [
    "# Top 5 Sports with highest GOLD MEDALS"
   ]
  },
  {
   "cell_type": "code",
   "execution_count": 16,
   "id": "a9daca44",
   "metadata": {},
   "outputs": [
    {
     "data": {
      "text/html": [
       "<div>\n",
       "<style scoped>\n",
       "    .dataframe tbody tr th:only-of-type {\n",
       "        vertical-align: middle;\n",
       "    }\n",
       "\n",
       "    .dataframe tbody tr th {\n",
       "        vertical-align: top;\n",
       "    }\n",
       "\n",
       "    .dataframe thead th {\n",
       "        text-align: right;\n",
       "    }\n",
       "</style>\n",
       "<table border=\"1\" class=\"dataframe\">\n",
       "  <thead>\n",
       "    <tr style=\"text-align: right;\">\n",
       "      <th></th>\n",
       "      <th>Sport</th>\n",
       "      <th>Medal</th>\n",
       "    </tr>\n",
       "  </thead>\n",
       "  <tbody>\n",
       "    <tr>\n",
       "      <th>0</th>\n",
       "      <td>Aquatics</td>\n",
       "      <td>1421</td>\n",
       "    </tr>\n",
       "    <tr>\n",
       "      <th>2</th>\n",
       "      <td>Athletics</td>\n",
       "      <td>1215</td>\n",
       "    </tr>\n",
       "    <tr>\n",
       "      <th>28</th>\n",
       "      <td>Rowing</td>\n",
       "      <td>890</td>\n",
       "    </tr>\n",
       "    <tr>\n",
       "      <th>17</th>\n",
       "      <td>Gymnastics</td>\n",
       "      <td>820</td>\n",
       "    </tr>\n",
       "    <tr>\n",
       "      <th>14</th>\n",
       "      <td>Fencing</td>\n",
       "      <td>552</td>\n",
       "    </tr>\n",
       "  </tbody>\n",
       "</table>\n",
       "</div>"
      ],
      "text/plain": [
       "         Sport  Medal\n",
       "0     Aquatics   1421\n",
       "2    Athletics   1215\n",
       "28      Rowing    890\n",
       "17  Gymnastics    820\n",
       "14     Fencing    552"
      ]
     },
     "execution_count": 16,
     "metadata": {},
     "output_type": "execute_result"
    }
   ],
   "source": [
    "# storing the gold medals into a variable\n",
    "gold = df[df['Medal']==\"Gold\"].groupby('Sport').count()[['Medal']].reset_index()\n",
    "\n",
    "# then calling the gold dataframe\n",
    "gold = gold.sort_values(by=['Medal'],ascending = False)\n",
    "gold = gold.head()\n",
    "gold"
   ]
  },
  {
   "cell_type": "code",
   "execution_count": 17,
   "id": "b61667ac",
   "metadata": {},
   "outputs": [
    {
     "name": "stdout",
     "output_type": "stream",
     "text": [
      "<class 'pandas.core.series.Series'>\n",
      "<class 'pandas.core.series.Series'>\n"
     ]
    }
   ],
   "source": [
    "sp = gold.iloc[:, 0]     # Sports column\n",
    "medal = gold.iloc[:,1]      # Gold medals column\n",
    "print(type(sp))\n",
    "print(type(medal))"
   ]
  },
  {
   "cell_type": "code",
   "execution_count": 18,
   "id": "e76d00b1",
   "metadata": {},
   "outputs": [
    {
     "data": {
      "image/png": "[encoded data removed]",
      "text/plain": [
       "<Figure size 720x432 with 1 Axes>"
      ]
     },
     "metadata": {
      "needs_background": "light"
     },
     "output_type": "display_data"
    }
   ],
   "source": [
    "# plotting the graph and applyling colors to the x and y axis labels and values\n",
    "plt.figure(figsize = (10, 6))\n",
    " \n",
    "# creating the bar plot\n",
    "plt.bar(sp, medal, color = '#ffbb00',align='center',width=0.4)\n",
    "\n",
    "plt.xticks(fontsize = 15, color = '#283747')\n",
    "plt.xlabel(\"Sports\",fontsize = 19)\n",
    "\n",
    "plt.yticks(fontsize = 15, color = 'maroon')\n",
    "plt.ylabel(\"Number of gold medals\",fontsize = 19)\n",
    "\n",
    "plt.title(\"Sports vs No. of Gold medals\", fontsize = 22, color = 'blue', fontweight = 'bold')\n",
    "plt.legend(df['Medal'])\n",
    "plt.show()"
   ]
  },
  {
   "cell_type": "markdown",
   "id": "580f13d7-1a5a-4f8d-b737-76f32988b3d0",
   "metadata": {},
   "source": [
    "# 📌 3. Which sport is having most number of medals so far? (Top 5) 🏅"
   ]
  },
  {
   "cell_type": "code",
   "execution_count": 19,
   "id": "c2d818c2-e4ea-4c4b-a4df-43cc0bc4b013",
   "metadata": {},
   "outputs": [
    {
     "name": "stdout",
     "output_type": "stream",
     "text": [
      "=====================\n",
      "Medal  | No. of medals\n",
      "=====================\n",
      "Gold      10486\n",
      "Bronze    10369\n",
      "Silver    10310\n",
      "Name: Medal, dtype: int64\n"
     ]
    }
   ],
   "source": [
    "# Total number of medals won by each country\n",
    "medal_counts = df['Medal'].value_counts()\n",
    "\n",
    "medal_counts = medal_counts.sort_values(ascending = False)\n",
    "\n",
    "# Print countries ranked by medals\n",
    "print(\"=====================\\nMedal  | No. of medals\\n=====================\")\n",
    "print(medal_counts)"
   ]
  },
  {
   "cell_type": "code",
   "execution_count": 20,
   "id": "1d39ed70-08e0-4f2f-8b78-d9726303c9f7",
   "metadata": {},
   "outputs": [
    {
     "data": {
      "text/html": [
       "<div>\n",
       "<style scoped>\n",
       "    .dataframe tbody tr th:only-of-type {\n",
       "        vertical-align: middle;\n",
       "    }\n",
       "\n",
       "    .dataframe tbody tr th {\n",
       "        vertical-align: top;\n",
       "    }\n",
       "\n",
       "    .dataframe thead th {\n",
       "        text-align: right;\n",
       "    }\n",
       "</style>\n",
       "<table border=\"1\" class=\"dataframe\">\n",
       "  <thead>\n",
       "    <tr style=\"text-align: right;\">\n",
       "      <th></th>\n",
       "      <th>Sport</th>\n",
       "      <th>Total Number of Medals</th>\n",
       "    </tr>\n",
       "  </thead>\n",
       "  <tbody>\n",
       "    <tr>\n",
       "      <th>0</th>\n",
       "      <td>Aquatics</td>\n",
       "      <td>4170</td>\n",
       "    </tr>\n",
       "    <tr>\n",
       "      <th>1</th>\n",
       "      <td>Athletics</td>\n",
       "      <td>3638</td>\n",
       "    </tr>\n",
       "    <tr>\n",
       "      <th>2</th>\n",
       "      <td>Rowing</td>\n",
       "      <td>2667</td>\n",
       "    </tr>\n",
       "    <tr>\n",
       "      <th>3</th>\n",
       "      <td>Gymnastics</td>\n",
       "      <td>2307</td>\n",
       "    </tr>\n",
       "    <tr>\n",
       "      <th>4</th>\n",
       "      <td>Fencing</td>\n",
       "      <td>1613</td>\n",
       "    </tr>\n",
       "  </tbody>\n",
       "</table>\n",
       "</div>"
      ],
      "text/plain": [
       "        Sport  Total Number of Medals\n",
       "0    Aquatics                    4170\n",
       "1   Athletics                    3638\n",
       "2      Rowing                    2667\n",
       "3  Gymnastics                    2307\n",
       "4     Fencing                    1613"
      ]
     },
     "execution_count": 20,
     "metadata": {},
     "output_type": "execute_result"
    }
   ],
   "source": [
    "m = df.groupby('Sport').count()['Medal']\n",
    "most = m.sort_values(ascending = False).reset_index(name='Total Number of Medals')\n",
    "most.head()"
   ]
  },
  {
   "cell_type": "code",
   "execution_count": 21,
   "id": "5dfdfde9-0107-4e03-ac27-ef1579ccd5cf",
   "metadata": {},
   "outputs": [
    {
     "data": {
      "image/png": "[encoded data removed]",
      "text/plain": [
       "<Figure size 864x432 with 1 Axes>"
      ]
     },
     "metadata": {
      "needs_background": "light"
     },
     "output_type": "display_data"
    }
   ],
   "source": [
    "# plotting the graph and applyling colors to the x and y axis labels and values\n",
    "plt.figure(figsize=(12, 6))\n",
    "\n",
    "highest_sport = df['Sport'].value_counts().head().index\n",
    "\n",
    "sns.countplot(data = df, x = 'Sport', hue = 'Medal', order=highest_sport, palette=sns.color_palette(\"Oranges\", 3))\n",
    "\n",
    "plt.title('Sports with most awarded Medals',fontsize = 21, fontweight='bold',color='red')\n",
    "\n",
    "plt.xlabel('Sports', fontsize = 18)\n",
    "plt.xticks(fontsize = 17, color = 'purple')\n",
    "\n",
    "plt.ylabel('No. of Medals', fontsize = 18)\n",
    "plt.yticks(fontsize = 17, color = 'blue')\n",
    "\n",
    "plt.show()"
   ]
  },
  {
   "cell_type": "markdown",
   "id": "9722f5a1-0633-41fe-a32e-63b9c004ff2b",
   "metadata": {},
   "source": [
    "# 📌 4. Which player has won most number of medals? (Top 5) 🏅"
   ]
  },
  {
   "cell_type": "code",
   "execution_count": 22,
   "id": "3a136108-fd01-4513-8bd0-c6ff9562293c",
   "metadata": {},
   "outputs": [
    {
     "data": {
      "text/html": [
       "<div>\n",
       "<style scoped>\n",
       "    .dataframe tbody tr th:only-of-type {\n",
       "        vertical-align: middle;\n",
       "    }\n",
       "\n",
       "    .dataframe tbody tr th {\n",
       "        vertical-align: top;\n",
       "    }\n",
       "\n",
       "    .dataframe thead th {\n",
       "        text-align: right;\n",
       "    }\n",
       "</style>\n",
       "<table border=\"1\" class=\"dataframe\">\n",
       "  <thead>\n",
       "    <tr style=\"text-align: right;\">\n",
       "      <th></th>\n",
       "      <th>Athlete</th>\n",
       "      <th>Most No. Of Medals</th>\n",
       "    </tr>\n",
       "  </thead>\n",
       "  <tbody>\n",
       "    <tr>\n",
       "      <th>0</th>\n",
       "      <td>PHELPS, Michael</td>\n",
       "      <td>22</td>\n",
       "    </tr>\n",
       "    <tr>\n",
       "      <th>1</th>\n",
       "      <td>LATYNINA, Larisa</td>\n",
       "      <td>18</td>\n",
       "    </tr>\n",
       "    <tr>\n",
       "      <th>2</th>\n",
       "      <td>ANDRIANOV, Nikolay</td>\n",
       "      <td>15</td>\n",
       "    </tr>\n",
       "    <tr>\n",
       "      <th>3</th>\n",
       "      <td>MANGIAROTTI, Edoardo</td>\n",
       "      <td>13</td>\n",
       "    </tr>\n",
       "    <tr>\n",
       "      <th>4</th>\n",
       "      <td>ONO, Takashi</td>\n",
       "      <td>13</td>\n",
       "    </tr>\n",
       "  </tbody>\n",
       "</table>\n",
       "</div>"
      ],
      "text/plain": [
       "                Athlete  Most No. Of Medals\n",
       "0       PHELPS, Michael                  22\n",
       "1      LATYNINA, Larisa                  18\n",
       "2    ANDRIANOV, Nikolay                  15\n",
       "3  MANGIAROTTI, Edoardo                  13\n",
       "4          ONO, Takashi                  13"
      ]
     },
     "execution_count": 22,
     "metadata": {},
     "output_type": "execute_result"
    }
   ],
   "source": [
    "df.groupby('Athlete').count()['Medal'].sort_values(ascending=False).head().reset_index(name=\"Most No. Of Medals\")"
   ]
  },
  {
   "cell_type": "code",
   "execution_count": 23,
   "id": "6ddc8e4d-aea2-41ab-a710-59b3e2c54334",
   "metadata": {
    "tags": []
   },
   "outputs": [
    {
     "data": {
      "image/png": "[encoded data removed]",
      "text/plain": [
       "<Figure size 792x432 with 1 Axes>"
      ]
     },
     "metadata": {
      "needs_background": "light"
     },
     "output_type": "display_data"
    }
   ],
   "source": [
    "df.groupby('Athlete').count()['Medal'].sort_values(ascending=False).head().plot.bar(figsize=(11, 6),color='#b83347')\n",
    "\n",
    "# plotting the graph and applyling colors to the x and y axis labels and values\n",
    "plt.title('Athlete with most number of medals', color='#5c5c5b', fontsize=20, fontweight = 'bold')\n",
    "\n",
    "plt.xticks(color='blue', fontsize=14)\n",
    "plt.xlabel(\"Athletes\",fontsize=18, color='red')\n",
    "\n",
    "plt.yticks(color='#007256', fontsize=15, fontweight='bold')\n",
    "plt.ylabel(\"Number of medals\", fontsize=18, color='red')\n",
    "\n",
    "plt.show()"
   ]
  },
  {
   "cell_type": "markdown",
   "id": "7a5c9965-2887-4471-aabb-ceef04be08a4",
   "metadata": {},
   "source": [
    "# 📌 5. Which player has won most number Gold Medals of medals? 🥇 (Top 5)"
   ]
  },
  {
   "cell_type": "code",
   "execution_count": 24,
   "id": "8a68777b-1471-48c4-93f6-8af3134b5d3b",
   "metadata": {},
   "outputs": [
    {
     "data": {
      "text/html": [
       "<div>\n",
       "<style scoped>\n",
       "    .dataframe tbody tr th:only-of-type {\n",
       "        vertical-align: middle;\n",
       "    }\n",
       "\n",
       "    .dataframe tbody tr th {\n",
       "        vertical-align: top;\n",
       "    }\n",
       "\n",
       "    .dataframe thead th {\n",
       "        text-align: right;\n",
       "    }\n",
       "</style>\n",
       "<table border=\"1\" class=\"dataframe\">\n",
       "  <thead>\n",
       "    <tr style=\"text-align: right;\">\n",
       "      <th></th>\n",
       "      <th>Athlete</th>\n",
       "      <th>Most No. of Gold Medals</th>\n",
       "    </tr>\n",
       "  </thead>\n",
       "  <tbody>\n",
       "    <tr>\n",
       "      <th>0</th>\n",
       "      <td>PHELPS, Michael</td>\n",
       "      <td>18</td>\n",
       "    </tr>\n",
       "    <tr>\n",
       "      <th>1</th>\n",
       "      <td>LEWIS, Carl</td>\n",
       "      <td>9</td>\n",
       "    </tr>\n",
       "    <tr>\n",
       "      <th>2</th>\n",
       "      <td>NURMI, Paavo</td>\n",
       "      <td>9</td>\n",
       "    </tr>\n",
       "    <tr>\n",
       "      <th>3</th>\n",
       "      <td>SPITZ, Mark</td>\n",
       "      <td>9</td>\n",
       "    </tr>\n",
       "    <tr>\n",
       "      <th>4</th>\n",
       "      <td>LATYNINA, Larisa</td>\n",
       "      <td>9</td>\n",
       "    </tr>\n",
       "  </tbody>\n",
       "</table>\n",
       "</div>"
      ],
      "text/plain": [
       "            Athlete  Most No. of Gold Medals\n",
       "0   PHELPS, Michael                       18\n",
       "1       LEWIS, Carl                        9\n",
       "2      NURMI, Paavo                        9\n",
       "3       SPITZ, Mark                        9\n",
       "4  LATYNINA, Larisa                        9"
      ]
     },
     "execution_count": 24,
     "metadata": {},
     "output_type": "execute_result"
    }
   ],
   "source": [
    "df[df['Medal']=='Gold'].groupby(\"Athlete\")['Medal'].count().sort_values(ascending=False).head(5).reset_index(name=\"Most No. of Gold Medals\")"
   ]
  },
  {
   "cell_type": "code",
   "execution_count": 25,
   "id": "713d2509-2c25-4228-9c0c-6047741ba06c",
   "metadata": {},
   "outputs": [
    {
     "data": {
      "image/png": "[encoded data removed]",
      "text/plain": [
       "<Figure size 648x432 with 1 Axes>"
      ]
     },
     "metadata": {
      "needs_background": "light"
     },
     "output_type": "display_data"
    }
   ],
   "source": [
    "top5_athlete = df[df['Medal']=='Gold'].groupby(\"Athlete\")['Medal'].count().sort_values(ascending=False).head(5)\n",
    "\n",
    "# plotting the graph and applyling colors to the x and y axis labels and values\n",
    "top5_athlete.plot.bar(figsize = (9,6),color = '#2ECC71')\n",
    "\n",
    "plt.xticks(fontsize = 14, color = 'red')\n",
    "plt.xlabel(\"Top Athletes\",fontsize = 18)\n",
    "\n",
    "plt.yticks(fontsize = 13, color = 'red')\n",
    "plt.ylabel(\"Number of Gold Medals\",fontsize = 18)\n",
    "\n",
    "plt.title(\"Top 5 Players having most number Gold Medal\", fontsize = 20, color = 'green', fontweight='bold')\n",
    "plt.show()"
   ]
  },
  {
   "cell_type": "markdown",
   "id": "8ab065fc-9a39-44a2-a653-cd2246f3347a",
   "metadata": {},
   "source": [
    "# 📌 6. In which year India won first Gold Medal in Summer Olympics? 🥇"
   ]
  },
  {
   "cell_type": "code",
   "execution_count": 26,
   "id": "449532ab",
   "metadata": {},
   "outputs": [
    {
     "data": {
      "text/html": [
       "<div>\n",
       "<style scoped>\n",
       "    .dataframe tbody tr th:only-of-type {\n",
       "        vertical-align: middle;\n",
       "    }\n",
       "\n",
       "    .dataframe tbody tr th {\n",
       "        vertical-align: top;\n",
       "    }\n",
       "\n",
       "    .dataframe thead th {\n",
       "        text-align: right;\n",
       "    }\n",
       "</style>\n",
       "<table border=\"1\" class=\"dataframe\">\n",
       "  <thead>\n",
       "    <tr style=\"text-align: right;\">\n",
       "      <th></th>\n",
       "      <th>Year</th>\n",
       "      <th>City</th>\n",
       "      <th>Sport</th>\n",
       "      <th>Discipline</th>\n",
       "      <th>Athlete</th>\n",
       "      <th>Country</th>\n",
       "      <th>Gender</th>\n",
       "      <th>Event</th>\n",
       "      <th>Medal</th>\n",
       "    </tr>\n",
       "  </thead>\n",
       "  <tbody>\n",
       "    <tr>\n",
       "      <th>5512</th>\n",
       "      <td>1928</td>\n",
       "      <td>Amsterdam</td>\n",
       "      <td>Hockey</td>\n",
       "      <td>Hockey</td>\n",
       "      <td>ALLEN, Richard James</td>\n",
       "      <td>IND</td>\n",
       "      <td>Men</td>\n",
       "      <td>Hockey</td>\n",
       "      <td>Gold</td>\n",
       "    </tr>\n",
       "    <tr>\n",
       "      <th>5513</th>\n",
       "      <td>1928</td>\n",
       "      <td>Amsterdam</td>\n",
       "      <td>Hockey</td>\n",
       "      <td>Hockey</td>\n",
       "      <td>CHAND, Dyan</td>\n",
       "      <td>IND</td>\n",
       "      <td>Men</td>\n",
       "      <td>Hockey</td>\n",
       "      <td>Gold</td>\n",
       "    </tr>\n",
       "    <tr>\n",
       "      <th>5514</th>\n",
       "      <td>1928</td>\n",
       "      <td>Amsterdam</td>\n",
       "      <td>Hockey</td>\n",
       "      <td>Hockey</td>\n",
       "      <td>GATELEY, Maurice A.</td>\n",
       "      <td>IND</td>\n",
       "      <td>Men</td>\n",
       "      <td>Hockey</td>\n",
       "      <td>Gold</td>\n",
       "    </tr>\n",
       "    <tr>\n",
       "      <th>5515</th>\n",
       "      <td>1928</td>\n",
       "      <td>Amsterdam</td>\n",
       "      <td>Hockey</td>\n",
       "      <td>Hockey</td>\n",
       "      <td>GILL, K. S.</td>\n",
       "      <td>IND</td>\n",
       "      <td>Men</td>\n",
       "      <td>Hockey</td>\n",
       "      <td>Gold</td>\n",
       "    </tr>\n",
       "    <tr>\n",
       "      <th>5516</th>\n",
       "      <td>1928</td>\n",
       "      <td>Amsterdam</td>\n",
       "      <td>Hockey</td>\n",
       "      <td>Hockey</td>\n",
       "      <td>GOODSIR-CULLEN, William John</td>\n",
       "      <td>IND</td>\n",
       "      <td>Men</td>\n",
       "      <td>Hockey</td>\n",
       "      <td>Gold</td>\n",
       "    </tr>\n",
       "  </tbody>\n",
       "</table>\n",
       "</div>"
      ],
      "text/plain": [
       "      Year       City   Sport Discipline                       Athlete  \\\n",
       "5512  1928  Amsterdam  Hockey     Hockey          ALLEN, Richard James   \n",
       "5513  1928  Amsterdam  Hockey     Hockey                   CHAND, Dyan   \n",
       "5514  1928  Amsterdam  Hockey     Hockey           GATELEY, Maurice A.   \n",
       "5515  1928  Amsterdam  Hockey     Hockey                   GILL, K. S.   \n",
       "5516  1928  Amsterdam  Hockey     Hockey  GOODSIR-CULLEN, William John   \n",
       "\n",
       "     Country Gender   Event Medal  \n",
       "5512     IND    Men  Hockey  Gold  \n",
       "5513     IND    Men  Hockey  Gold  \n",
       "5514     IND    Men  Hockey  Gold  \n",
       "5515     IND    Men  Hockey  Gold  \n",
       "5516     IND    Men  Hockey  Gold  "
      ]
     },
     "execution_count": 26,
     "metadata": {},
     "output_type": "execute_result"
    }
   ],
   "source": [
    "# creating a dataframe of gold medals\n",
    "gold = df[df['Medal'] == 'Gold']\n",
    "# calling the gold dataframe and country as India\n",
    "gold = gold[gold['Country']=='IND'].head()\n",
    "gold"
   ]
  },
  {
   "cell_type": "code",
   "execution_count": 27,
   "id": "5f6398c3-774e-48c3-bbdf-73a77a2f08d4",
   "metadata": {},
   "outputs": [
    {
     "name": "stdout",
     "output_type": "stream",
     "text": [
      "=======================================================\n",
      "In the year 1928 India won its First Gold Medal\n",
      "=======================================================\n"
     ]
    }
   ],
   "source": [
    "ans = gold[gold['Country']=='IND']['Year'].min()\n",
    "print(\"=======================================================\")\n",
    "print(f\"In the year {ans} India won its First Gold Medal\")\n",
    "print(\"=======================================================\")"
   ]
  },
  {
   "cell_type": "markdown",
   "id": "9ffba986-b0f7-42ba-a271-514d80b32a6a",
   "metadata": {},
   "source": [
    "# 📌 7. Which event is most popular in terms on number of players? (Top 5) 📈"
   ]
  },
  {
   "cell_type": "code",
   "execution_count": 28,
   "id": "fc61cfaa-7b41-4178-91ae-2043ef6c9f8c",
   "metadata": {},
   "outputs": [
    {
     "data": {
      "text/html": [
       "<div>\n",
       "<style scoped>\n",
       "    .dataframe tbody tr th:only-of-type {\n",
       "        vertical-align: middle;\n",
       "    }\n",
       "\n",
       "    .dataframe tbody tr th {\n",
       "        vertical-align: top;\n",
       "    }\n",
       "\n",
       "    .dataframe thead th {\n",
       "        text-align: right;\n",
       "    }\n",
       "</style>\n",
       "<table border=\"1\" class=\"dataframe\">\n",
       "  <thead>\n",
       "    <tr style=\"text-align: right;\">\n",
       "      <th></th>\n",
       "      <th>Event</th>\n",
       "      <th>No. Of Players</th>\n",
       "    </tr>\n",
       "  </thead>\n",
       "  <tbody>\n",
       "    <tr>\n",
       "      <th>0</th>\n",
       "      <td>Football</td>\n",
       "      <td>1497</td>\n",
       "    </tr>\n",
       "    <tr>\n",
       "      <th>1</th>\n",
       "      <td>Hockey</td>\n",
       "      <td>1422</td>\n",
       "    </tr>\n",
       "    <tr>\n",
       "      <th>2</th>\n",
       "      <td>Team Competition</td>\n",
       "      <td>1147</td>\n",
       "    </tr>\n",
       "    <tr>\n",
       "      <th>3</th>\n",
       "      <td>Basketball</td>\n",
       "      <td>1012</td>\n",
       "    </tr>\n",
       "    <tr>\n",
       "      <th>4</th>\n",
       "      <td>Handball</td>\n",
       "      <td>973</td>\n",
       "    </tr>\n",
       "  </tbody>\n",
       "</table>\n",
       "</div>"
      ],
      "text/plain": [
       "              Event  No. Of Players\n",
       "0          Football            1497\n",
       "1            Hockey            1422\n",
       "2  Team Competition            1147\n",
       "3        Basketball            1012\n",
       "4          Handball             973"
      ]
     },
     "execution_count": 28,
     "metadata": {},
     "output_type": "execute_result"
    }
   ],
   "source": [
    "df.groupby(\"Event\").count()['Athlete'].sort_values(ascending=False).head(5).reset_index(name = \"No. Of Players\")"
   ]
  },
  {
   "cell_type": "code",
   "execution_count": 29,
   "id": "1a137d73-a4dd-4ec3-840f-dfd06e5b840b",
   "metadata": {},
   "outputs": [
    {
     "data": {
      "image/png": "[encoded data removed]",
      "text/plain": [
       "<Figure size 864x432 with 1 Axes>"
      ]
     },
     "metadata": {
      "needs_background": "light"
     },
     "output_type": "display_data"
    }
   ],
   "source": [
    "data = df.groupby(\"Event\").count()['Athlete'].sort_values(ascending=False).head(5)\n",
    "\n",
    "# plotting the graph and applyling colors to the x and y axis labels and values\n",
    "data.plot.bar(figsize=(12,6), color = '#8eb1d6')\n",
    "\n",
    "plt.xticks(fontsize = 15, color = 'blue')\n",
    "plt.xlabel(\"Events\",fontsize = 18)\n",
    "\n",
    "plt.yticks(fontsize = 14, color = '#d82907')\n",
    "plt.ylabel(\"Number of Players\", fontsize = 18)\n",
    "\n",
    "plt.title(\"Most popular event in terms of No. of Players\", fontsize = 20, color = '#a93d43', fontweight='bold')\n",
    "plt.show()"
   ]
  },
  {
   "cell_type": "markdown",
   "id": "4e4edbc4-1de8-4e2f-8a92-2665ba4a11f8",
   "metadata": {},
   "source": [
    "# 📌 8. Which sport is having most female Gold Medalists? (Top 5)"
   ]
  },
  {
   "cell_type": "code",
   "execution_count": 30,
   "id": "123222f1-66c6-41fd-8b00-dfebcf47554f",
   "metadata": {},
   "outputs": [
    {
     "data": {
      "text/html": [
       "<div>\n",
       "<style scoped>\n",
       "    .dataframe tbody tr th:only-of-type {\n",
       "        vertical-align: middle;\n",
       "    }\n",
       "\n",
       "    .dataframe tbody tr th {\n",
       "        vertical-align: top;\n",
       "    }\n",
       "\n",
       "    .dataframe thead th {\n",
       "        text-align: right;\n",
       "    }\n",
       "</style>\n",
       "<table border=\"1\" class=\"dataframe\">\n",
       "  <thead>\n",
       "    <tr style=\"text-align: right;\">\n",
       "      <th></th>\n",
       "      <th>Year</th>\n",
       "      <th>City</th>\n",
       "      <th>Sport</th>\n",
       "      <th>Discipline</th>\n",
       "      <th>Athlete</th>\n",
       "      <th>Country</th>\n",
       "      <th>Gender</th>\n",
       "      <th>Event</th>\n",
       "      <th>Medal</th>\n",
       "    </tr>\n",
       "  </thead>\n",
       "  <tbody>\n",
       "    <tr>\n",
       "      <th>417</th>\n",
       "      <td>1900</td>\n",
       "      <td>Paris</td>\n",
       "      <td>Golf</td>\n",
       "      <td>Golf</td>\n",
       "      <td>ABBOTT, Margaret Ives</td>\n",
       "      <td>USA</td>\n",
       "      <td>Women</td>\n",
       "      <td>Individual</td>\n",
       "      <td>Gold</td>\n",
       "    </tr>\n",
       "    <tr>\n",
       "      <th>641</th>\n",
       "      <td>1900</td>\n",
       "      <td>Paris</td>\n",
       "      <td>Tennis</td>\n",
       "      <td>Tennis</td>\n",
       "      <td>COOPER, Charlotte</td>\n",
       "      <td>GBR</td>\n",
       "      <td>Women</td>\n",
       "      <td>Mixed Doubles</td>\n",
       "      <td>Gold</td>\n",
       "    </tr>\n",
       "    <tr>\n",
       "      <th>649</th>\n",
       "      <td>1900</td>\n",
       "      <td>Paris</td>\n",
       "      <td>Tennis</td>\n",
       "      <td>Tennis</td>\n",
       "      <td>COOPER, Charlotte</td>\n",
       "      <td>GBR</td>\n",
       "      <td>Women</td>\n",
       "      <td>Singles</td>\n",
       "      <td>Gold</td>\n",
       "    </tr>\n",
       "    <tr>\n",
       "      <th>710</th>\n",
       "      <td>1904</td>\n",
       "      <td>St Louis</td>\n",
       "      <td>Archery</td>\n",
       "      <td>Archery</td>\n",
       "      <td>HOWELL, Matilda Scott</td>\n",
       "      <td>USA</td>\n",
       "      <td>Women</td>\n",
       "      <td>Double Columbia Round (50Y - 40Y - 30Y)</td>\n",
       "      <td>Gold</td>\n",
       "    </tr>\n",
       "    <tr>\n",
       "      <th>713</th>\n",
       "      <td>1904</td>\n",
       "      <td>St Louis</td>\n",
       "      <td>Archery</td>\n",
       "      <td>Archery</td>\n",
       "      <td>HOWELL, Matilda Scott</td>\n",
       "      <td>USA</td>\n",
       "      <td>Women</td>\n",
       "      <td>Double National Round (60Y - 50Y)</td>\n",
       "      <td>Gold</td>\n",
       "    </tr>\n",
       "  </tbody>\n",
       "</table>\n",
       "</div>"
      ],
      "text/plain": [
       "     Year      City    Sport Discipline                Athlete Country Gender  \\\n",
       "417  1900     Paris     Golf       Golf  ABBOTT, Margaret Ives     USA  Women   \n",
       "641  1900     Paris   Tennis     Tennis      COOPER, Charlotte     GBR  Women   \n",
       "649  1900     Paris   Tennis     Tennis      COOPER, Charlotte     GBR  Women   \n",
       "710  1904  St Louis  Archery    Archery  HOWELL, Matilda Scott     USA  Women   \n",
       "713  1904  St Louis  Archery    Archery  HOWELL, Matilda Scott     USA  Women   \n",
       "\n",
       "                                       Event Medal  \n",
       "417                               Individual  Gold  \n",
       "641                            Mixed Doubles  Gold  \n",
       "649                                  Singles  Gold  \n",
       "710  Double Columbia Round (50Y - 40Y - 30Y)  Gold  \n",
       "713        Double National Round (60Y - 50Y)  Gold  "
      ]
     },
     "execution_count": 30,
     "metadata": {},
     "output_type": "execute_result"
    }
   ],
   "source": [
    "women = df[df['Gender'] == 'Women']\n",
    "women = women[women['Medal'] == 'Gold'].head()\n",
    "women"
   ]
  },
  {
   "cell_type": "code",
   "execution_count": 31,
   "id": "51486071-349b-4560-84a1-65447a1c79c5",
   "metadata": {},
   "outputs": [
    {
     "data": {
      "text/html": [
       "<div>\n",
       "<style scoped>\n",
       "    .dataframe tbody tr th:only-of-type {\n",
       "        vertical-align: middle;\n",
       "    }\n",
       "\n",
       "    .dataframe tbody tr th {\n",
       "        vertical-align: top;\n",
       "    }\n",
       "\n",
       "    .dataframe thead th {\n",
       "        text-align: right;\n",
       "    }\n",
       "</style>\n",
       "<table border=\"1\" class=\"dataframe\">\n",
       "  <thead>\n",
       "    <tr style=\"text-align: right;\">\n",
       "      <th></th>\n",
       "      <th>Sport</th>\n",
       "      <th>No. of Female Gold Medalists</th>\n",
       "    </tr>\n",
       "  </thead>\n",
       "  <tbody>\n",
       "    <tr>\n",
       "      <th>4</th>\n",
       "      <td>Aquatics</td>\n",
       "      <td>1726</td>\n",
       "    </tr>\n",
       "    <tr>\n",
       "      <th>8</th>\n",
       "      <td>Athletics</td>\n",
       "      <td>1163</td>\n",
       "    </tr>\n",
       "    <tr>\n",
       "      <th>9</th>\n",
       "      <td>Gymnastics</td>\n",
       "      <td>799</td>\n",
       "    </tr>\n",
       "    <tr>\n",
       "      <th>14</th>\n",
       "      <td>Rowing</td>\n",
       "      <td>651</td>\n",
       "    </tr>\n",
       "    <tr>\n",
       "      <th>11</th>\n",
       "      <td>Volleyball</td>\n",
       "      <td>497</td>\n",
       "    </tr>\n",
       "  </tbody>\n",
       "</table>\n",
       "</div>"
      ],
      "text/plain": [
       "         Sport  No. of Female Gold Medalists\n",
       "4     Aquatics                          1726\n",
       "8    Athletics                          1163\n",
       "9   Gymnastics                           799\n",
       "14      Rowing                           651\n",
       "11  Volleyball                           497"
      ]
     },
     "execution_count": 31,
     "metadata": {},
     "output_type": "execute_result"
    }
   ],
   "source": [
    "# dataframe creation where gender is women\n",
    "women = df[df['Gender']=='Women']\n",
    "data = []       # empty list\n",
    "\n",
    "# using for loop and women dataframe calculating length\n",
    "for sport in women['Sport'].unique():\n",
    "  data.append([sport, len(women[women['Sport'] == sport])])    #appending empty list with length calculated\n",
    "\n",
    "data = pd.DataFrame(data, columns=['Sport', 'No. of Female Gold Medalists']).sort_values(by='No. of Female Gold Medalists', ascending=False).head()\n",
    "data"
   ]
  },
  {
   "cell_type": "code",
   "execution_count": 32,
   "id": "00407502-ac36-4799-8c32-b48073013acb",
   "metadata": {},
   "outputs": [
    {
     "data": {
      "image/png": "[encoded data removed]",
      "text/plain": [
       "<Figure size 864x432 with 1 Axes>"
      ]
     },
     "metadata": {
      "needs_background": "light"
     },
     "output_type": "display_data"
    }
   ],
   "source": [
    "data = pd.DataFrame(data, columns = ['Sport','No. of Female Gold Medalists']).sort_values(by='No. of Female Gold Medalists', ascending=False).head()\n",
    "\n",
    "# plotting the graph and applyling colors to the x and y axis labels and values\n",
    "data.plot.bar(x = 'Sport' , y = 'No. of Female Gold Medalists',figsize=(12,6), color = '#6e4177')\n",
    "\n",
    "plt.xticks(fontsize = 15, color = 'red')\n",
    "plt.xlabel(\"Sports\",fontsize = 18, color = 'blue')\n",
    "\n",
    "plt.yticks(fontsize = 14, color = 'green')\n",
    "plt.ylabel(\"Number of Female Gold Medalists\", fontsize = 18)\n",
    "\n",
    "plt.title(\"Sport having most Female Gold Medalists\", fontsize = 20, color = '#e85e31', fontweight='bold')\n",
    "plt.show()"
   ]
  },
  {
   "cell_type": "markdown",
   "id": "53455a22-d3b3-4e2f-adf9-65076f8eb097",
   "metadata": {},
   "source": [
    "# 📍 Conclusion:\n",
    "\n",
    "### 1. In how many cities Summer Olympics is held so far?\n",
    "#### Ans. Summer Olympics has been held in '22' cities so far.\n",
    "\n",
    "### 2. Which sport is having most number of Gold Medals so far? (Top 5)\n",
    "#### Ans. Aquatics, Athletics, Rowing, Gymnastics and Fencing are Top 5 sports having Gold medals.\n",
    "\n",
    "### 3. Which sport is having most number of medals so far? (Top 5)\n",
    "#### Ans. Aquatics, Athletics, Rowing, Gymnastics and Fencing are Top 5 sports having most medals.\n",
    "\n",
    "### 4. Which player has won most number of medals? (Top 5)\n",
    "#### Ans. PHELPS Michael 22, LATYNINA Larisa 18, ANDRIANOV Nikolay 15, MANGIAROTTI Edoardo 13, ONO Takashi 13 are the players who have won most medals.\n",
    "\n",
    "### 5. Which player has won most number Gold Medals of medals? (Top 5)\n",
    "#### Ans. PHELPS Michael 18, LEWIS Carl 9, NURMI Paavo 9, SPITZ Mark 9, LATYNINA Larisa 9 are the top 5 players having most gold medals.\n",
    "\n",
    "### 6. In which year India won first Gold Medal in Summer Olympics?\n",
    "#### Ans. In the year 1928 India won its First Gold Medal.\n",
    "\n",
    "### 7. Which event is most popular in terms on number of players? (Top 5)\n",
    "#### Ans. Football 1497, Hockey 1422, Team Competition 1147, Basketball 1012, Handball 973 are the popular event in terms of No. of players.\n",
    "\n",
    "### 8. Which sport is having most female Gold Medalists? (Top 5)\n",
    "#### Ans. Aquatics 1726, Athletics 1163, Gymnastics 799, Rowing 651, Volleyball 497 are the sports having most female Gold Medalists."
   ]
  }
 ],
 "metadata": {
  "kernelspec": {
   "display_name": "Python 3",
   "language": "python",
   "name": "python3"
  },
  "language_info": {
   "codemirror_mode": {
    "name": "ipython",
    "version": 3
   },
   "file_extension": ".py",
   "mimetype": "text/x-python",
   "name": "python",
   "nbconvert_exporter": "python",
   "pygments_lexer": "ipython3",
   "version": "3.8.8"
  }
 },
 "nbformat": 4,
 "nbformat_minor": 5
}
